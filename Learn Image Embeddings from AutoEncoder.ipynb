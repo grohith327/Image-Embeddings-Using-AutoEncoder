{
 "cells": [
  {
   "cell_type": "code",
   "execution_count": 2,
   "metadata": {},
   "outputs": [
    {
     "name": "stdout",
     "output_type": "stream",
     "text": [
      "Epoch 1/20\n",
      "60000/60000 [==============================] - 33s 545us/step - loss: 0.0599 - acc: 0.0104\n",
      "Epoch 2/20\n",
      "60000/60000 [==============================] - 30s 497us/step - loss: 0.0384 - acc: 0.0112\n",
      "Epoch 3/20\n",
      "60000/60000 [==============================] - 29s 480us/step - loss: 0.0327 - acc: 0.0109\n",
      "Epoch 4/20\n",
      "60000/60000 [==============================] - 29s 484us/step - loss: 0.0294 - acc: 0.0110\n",
      "Epoch 5/20\n",
      "60000/60000 [==============================] - 29s 484us/step - loss: 0.0273 - acc: 0.0115\n",
      "Epoch 6/20\n",
      "60000/60000 [==============================] - 26s 435us/step - loss: 0.0256 - acc: 0.0112\n",
      "Epoch 7/20\n",
      "60000/60000 [==============================] - 25s 411us/step - loss: 0.0243 - acc: 0.0112\n",
      "Epoch 8/20\n",
      "60000/60000 [==============================] - 30s 498us/step - loss: 0.0234 - acc: 0.0110\n",
      "Epoch 9/20\n",
      "60000/60000 [==============================] - 29s 485us/step - loss: 0.0226 - acc: 0.0121\n",
      "Epoch 10/20\n",
      "60000/60000 [==============================] - 30s 497us/step - loss: 0.0218 - acc: 0.0117\n",
      "Epoch 11/20\n",
      "60000/60000 [==============================] - 29s 487us/step - loss: 0.0211 - acc: 0.0118\n",
      "Epoch 12/20\n",
      "60000/60000 [==============================] - 29s 486us/step - loss: 0.0204 - acc: 0.0115\n",
      "Epoch 13/20\n",
      "60000/60000 [==============================] - 29s 479us/step - loss: 0.0197 - acc: 0.0113\n",
      "Epoch 14/20\n",
      "60000/60000 [==============================] - 34s 562us/step - loss: 0.0192 - acc: 0.0119\n",
      "Epoch 15/20\n",
      "60000/60000 [==============================] - 34s 567us/step - loss: 0.0188 - acc: 0.0111\n",
      "Epoch 16/20\n",
      "60000/60000 [==============================] - 31s 509us/step - loss: 0.0184 - acc: 0.0122\n",
      "Epoch 17/20\n",
      "60000/60000 [==============================] - 29s 477us/step - loss: 0.0181 - acc: 0.0121\n",
      "Epoch 18/20\n",
      "60000/60000 [==============================] - 29s 480us/step - loss: 0.0178 - acc: 0.0118\n",
      "Epoch 19/20\n",
      "60000/60000 [==============================] - 29s 489us/step - loss: 0.0176 - acc: 0.0119\n",
      "Epoch 20/20\n",
      "60000/60000 [==============================] - 30s 494us/step - loss: 0.0173 - acc: 0.0120\n"
     ]
    },
    {
     "data": {
      "text/plain": [
       "<keras.callbacks.History at 0x10f149610>"
      ]
     },
     "execution_count": 2,
     "metadata": {},
     "output_type": "execute_result"
    }
   ],
   "source": [
    "import keras\n",
    "from keras.datasets import mnist\n",
    "from keras.models import Sequential\n",
    "from keras.layers import Dense, Dropout, Flatten\n",
    "from keras.layers import Conv2D, MaxPooling2D\n",
    "from keras import backend as K\n",
    "\n",
    "(x_train, y_train), (x_test, y_test) = mnist.load_data()\n",
    "\n",
    "img_rows, img_cols = 28, 28\n",
    "\n",
    "if K.image_data_format() == 'channels_first':\n",
    "    x_train = x_train.reshape(x_train.shape[0], 1, img_rows, img_cols)\n",
    "    x_test = x_test.reshape(x_test.shape[0], 1, img_rows, img_cols)\n",
    "    input_shape = (1, img_rows, img_cols)\n",
    "else:\n",
    "    x_train = x_train.reshape(x_train.shape[0], img_rows, img_cols, 1)\n",
    "    x_test = x_test.reshape(x_test.shape[0], img_rows, img_cols, 1)\n",
    "    input_shape = (img_rows, img_cols, 1)\n",
    "\n",
    "x_train = x_train.astype('float32')\n",
    "x_test = x_test.astype('float32')\n",
    "x_train /= 255\n",
    "x_test /= 255\n",
    "\n",
    "import numpy as np\n",
    "\n",
    "temp = []\n",
    "for img in x_train:\n",
    "    t = []\n",
    "    for row in img:\n",
    "        for i in row:\n",
    "            t.append(i)\n",
    "    temp.append(t)\n",
    "x_train = []\n",
    "x_train = temp\n",
    "\n",
    "x_train = np.array(x_train)\n",
    "\n",
    "x_train = x_train.reshape(60000,784)\n",
    "\n",
    "model = Sequential()\n",
    "model.add(Dense(784,activation='relu',input_dim=784))\n",
    "model.add(Dense(256,activation='relu'))\n",
    "model.add(Dense(128,activation='relu'))\n",
    "model.add(Dense(64,activation='relu'))\n",
    "model.add(Dense(128,activation='relu'))\n",
    "model.add(Dense(256,activation='relu'))\n",
    "model.add(Dense(784,activation='relu'))\n",
    "\n",
    "model.compile(loss=keras.losses.mean_squared_error,\n",
    "             optimizer=keras.optimizers.RMSprop(lr=0.0001, rho=0.9, epsilon=None, decay=0.0),\n",
    "             metrics = ['accuracy'])\n",
    "\n",
    "model.fit(x_train,x_train,verbose=1,epochs=20,batch_size=256)"
   ]
  },
  {
   "cell_type": "code",
   "execution_count": 3,
   "metadata": {},
   "outputs": [],
   "source": [
    "weights = []\n",
    "for layer in model.layers:\n",
    "    weights.append(layer.get_weights())"
   ]
  },
  {
   "cell_type": "code",
   "execution_count": 4,
   "metadata": {},
   "outputs": [
    {
     "name": "stdout",
     "output_type": "stream",
     "text": [
      "_________________________________________________________________\n",
      "Layer (type)                 Output Shape              Param #   \n",
      "=================================================================\n",
      "dense_8 (Dense)              (None, 784)               615440    \n",
      "_________________________________________________________________\n",
      "dense_9 (Dense)              (None, 256)               200960    \n",
      "_________________________________________________________________\n",
      "dense_10 (Dense)             (None, 128)               32896     \n",
      "_________________________________________________________________\n",
      "dense_11 (Dense)             (None, 64)                8256      \n",
      "=================================================================\n",
      "Total params: 857,552\n",
      "Trainable params: 857,552\n",
      "Non-trainable params: 0\n",
      "_________________________________________________________________\n",
      "None\n"
     ]
    }
   ],
   "source": [
    "model_1 = Sequential()\n",
    "model_1.add(Dense(784,activation='relu',weights=weights[0],input_dim=784))\n",
    "model_1.add(Dense(256,activation='relu',weights=weights[1]))\n",
    "model_1.add(Dense(128,activation='relu',weights=weights[2]))\n",
    "model_1.add(Dense(64,activation='relu',weights=weights[3]))\n",
    "\n",
    "print(model_1.summary())"
   ]
  },
  {
   "cell_type": "code",
   "execution_count": 5,
   "metadata": {},
   "outputs": [],
   "source": [
    "train_features = model_1.predict(x_train)"
   ]
  },
  {
   "cell_type": "code",
   "execution_count": 6,
   "metadata": {},
   "outputs": [
    {
     "name": "stdout",
     "output_type": "stream",
     "text": [
      "(60000, 64)\n"
     ]
    }
   ],
   "source": [
    "print(train_features.shape)"
   ]
  },
  {
   "cell_type": "code",
   "execution_count": 14,
   "metadata": {
    "scrolled": true
   },
   "outputs": [
    {
     "name": "stdout",
     "output_type": "stream",
     "text": [
      "(10000, 784)\n"
     ]
    }
   ],
   "source": [
    "x_test_new = []\n",
    "count = 1\n",
    "for val in x_test:\n",
    "    temp = []\n",
    "    for i in val:\n",
    "        for j in i:\n",
    "            for k in j:\n",
    "                temp.append(k)\n",
    "    count += 1\n",
    "    x_test_new.append(temp)\n",
    "x_test_new = np.array(x_test_new)\n",
    "print(x_test_new.shape)"
   ]
  },
  {
   "cell_type": "code",
   "execution_count": 15,
   "metadata": {},
   "outputs": [],
   "source": [
    "test_features = model_1.predict(x_test_new)"
   ]
  },
  {
   "cell_type": "code",
   "execution_count": 24,
   "metadata": {},
   "outputs": [
    {
     "data": {
      "text/plain": [
       "SVC(C=1.0, cache_size=200, class_weight=None, coef0=0.0,\n",
       "  decision_function_shape='ovr', degree=3, gamma='auto', kernel='rbf',\n",
       "  max_iter=-1, probability=False, random_state=None, shrinking=True,\n",
       "  tol=0.001, verbose=False)"
      ]
     },
     "execution_count": 24,
     "metadata": {},
     "output_type": "execute_result"
    }
   ],
   "source": [
    "from sklearn.svm import SVC\n",
    "from sklearn.metrics import accuracy_score\n",
    "\n",
    "clf = SVC()\n",
    "clf.fit(train_features,y_train)"
   ]
  },
  {
   "cell_type": "code",
   "execution_count": 25,
   "metadata": {},
   "outputs": [
    {
     "name": "stdout",
     "output_type": "stream",
     "text": [
      "0.9777\n"
     ]
    }
   ],
   "source": [
    "pred = clf.predict(test_features)\n",
    "print(accuracy_score(y_test,pred))"
   ]
  },
  {
   "cell_type": "code",
   "execution_count": null,
   "metadata": {},
   "outputs": [],
   "source": []
  }
 ],
 "metadata": {
  "kernelspec": {
   "display_name": "Python 2",
   "language": "python",
   "name": "python2"
  },
  "language_info": {
   "codemirror_mode": {
    "name": "ipython",
    "version": 2
   },
   "file_extension": ".py",
   "mimetype": "text/x-python",
   "name": "python",
   "nbconvert_exporter": "python",
   "pygments_lexer": "ipython2",
   "version": "2.7.14"
  }
 },
 "nbformat": 4,
 "nbformat_minor": 2
}
